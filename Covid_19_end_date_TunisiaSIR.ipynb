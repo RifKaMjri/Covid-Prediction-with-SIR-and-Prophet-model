{
  "nbformat": 4,
  "nbformat_minor": 0,
  "metadata": {
    "colab": {
      "name": "Covid_19_end_date_TunisiaSIR.ipynb",
      "provenance": [],
      "collapsed_sections": []
    },
    "kernelspec": {
      "name": "python3",
      "display_name": "Python 3"
    }
  },
  "cells": [
    {
      "cell_type": "code",
      "metadata": {
        "id": "aqnpq9lQY-Q9",
        "outputId": "62a5dc54-0b90-4926-86c4-8b93a3bddd2e",
        "colab": {
          "base_uri": "https://localhost:8080/",
          "height": 102
        }
      },
      "source": [
        "!pip install lmfit"
      ],
      "execution_count": null,
      "outputs": [
        {
          "output_type": "stream",
          "text": [
            "Requirement already satisfied: lmfit in /usr/local/lib/python3.6/dist-packages (1.0.0)\n",
            "Requirement already satisfied: asteval>=0.9.16 in /usr/local/lib/python3.6/dist-packages (from lmfit) (0.9.18)\n",
            "Requirement already satisfied: scipy>=1.2 in /usr/local/lib/python3.6/dist-packages (from lmfit) (1.4.1)\n",
            "Requirement already satisfied: uncertainties>=3.0.1 in /usr/local/lib/python3.6/dist-packages (from lmfit) (3.1.2)\n",
            "Requirement already satisfied: numpy>=1.16 in /usr/local/lib/python3.6/dist-packages (from lmfit) (1.18.3)\n"
          ],
          "name": "stdout"
        }
      ]
    },
    {
      "cell_type": "code",
      "metadata": {
        "id": "BLnT-CBCTKWb",
        "outputId": "5180dc37-e3bf-43b6-a94c-07b770240c6b",
        "colab": {
          "base_uri": "https://localhost:8080/",
          "height": 105
        }
      },
      "source": [
        "from google.colab import drive\n",
        "drive.mount('/content/drive')"
      ],
      "execution_count": null,
      "outputs": [
        {
          "output_type": "stream",
          "text": [
            "Go to this URL in a browser: https://accounts.google.com/o/oauth2/auth?client_id=947318989803-6bn6qk8qdgf4n4g3pfee6491hc0brc4i.apps.googleusercontent.com&redirect_uri=urn%3aietf%3awg%3aoauth%3a2.0%3aoob&response_type=code&scope=email%20https%3a%2f%2fwww.googleapis.com%2fauth%2fdocs.test%20https%3a%2f%2fwww.googleapis.com%2fauth%2fdrive%20https%3a%2f%2fwww.googleapis.com%2fauth%2fdrive.photos.readonly%20https%3a%2f%2fwww.googleapis.com%2fauth%2fpeopleapi.readonly\n",
            "\n",
            "Enter your authorization code:\n",
            "··········\n"
          ],
          "name": "stdout"
        }
      ]
    },
    {
      "cell_type": "code",
      "metadata": {
        "id": "Yt7EHhaXY_hL"
      },
      "source": [
        "import numpy as np\n",
        "import pandas as pd\n",
        "import matplotlib.pyplot as plt\n",
        "from scipy.integrate import solve_ivp\n",
        "from scipy.optimize import minimize\n",
        "from datetime import timedelta, datetime\n",
        "from scipy.integrate import odeint\n",
        "from lmfit import minimize, Parameters, Parameter, report_fit"
      ],
      "execution_count": null,
      "outputs": []
    },
    {
      "cell_type": "code",
      "metadata": {
        "id": "srh4NrEUZB8Q"
      },
      "source": [
        "#importing global data\n",
        "url = 'https://raw.githubusercontent.com/CSSEGISandData/COVID-19/master/csse_covid_19_data/csse_covid_19_time_series/time_series_covid19_confirmed_global.csv'\n",
        "confirmed_global = pd.read_csv(url, error_bad_lines=False)\n",
        "url = 'https://raw.githubusercontent.com/CSSEGISandData/COVID-19/master/csse_covid_19_data/csse_covid_19_time_series/time_series_covid19_deaths_global.csv'\n",
        "deaths_global = pd.read_csv(url, error_bad_lines=False)\n",
        "url = 'https://raw.githubusercontent.com/CSSEGISandData/COVID-19/master/csse_covid_19_data/csse_covid_19_time_series/time_series_covid19_recovered_global.csv'\n",
        "recovered_global = pd.read_csv(url, error_bad_lines=False)"
      ],
      "execution_count": null,
      "outputs": []
    },
    {
      "cell_type": "code",
      "metadata": {
        "id": "G2qQnzT6ZGKt",
        "outputId": "cf047224-3d58-411d-b86e-14784e2c33f8",
        "colab": {
          "base_uri": "https://localhost:8080/",
          "height": 204
        }
      },
      "source": [
        "#extract data for Tunisia \n",
        "index_tn = 212 # Tunisia's index in the dataset\n",
        "start = 4 #remove the region columns to start from the first date in the dataset\n",
        "confirmed = confirmed_global.iloc[index_tn,start:]\n",
        "deaths = deaths_global.iloc[index_tn,start:]\n",
        "recovered = recovered_global.iloc[index_tn,start:]\n",
        "tn = {'confirmed': confirmed, 'deaths': deaths,'recovered': recovered}\n",
        "tn = pd.DataFrame(tn)\n",
        "tn =tn[tn.confirmed != 0] # removing dates where there are no confirmed cases: dataset starts with the first confirmed case\n",
        "tn.tail()"
      ],
      "execution_count": null,
      "outputs": [
        {
          "output_type": "execute_result",
          "data": {
            "text/html": [
              "<div>\n",
              "<style scoped>\n",
              "    .dataframe tbody tr th:only-of-type {\n",
              "        vertical-align: middle;\n",
              "    }\n",
              "\n",
              "    .dataframe tbody tr th {\n",
              "        vertical-align: top;\n",
              "    }\n",
              "\n",
              "    .dataframe thead th {\n",
              "        text-align: right;\n",
              "    }\n",
              "</style>\n",
              "<table border=\"1\" class=\"dataframe\">\n",
              "  <thead>\n",
              "    <tr style=\"text-align: right;\">\n",
              "      <th></th>\n",
              "      <th>confirmed</th>\n",
              "      <th>deaths</th>\n",
              "      <th>recovered</th>\n",
              "    </tr>\n",
              "  </thead>\n",
              "  <tbody>\n",
              "    <tr>\n",
              "      <th>4/29/20</th>\n",
              "      <td>980</td>\n",
              "      <td>40</td>\n",
              "      <td>294</td>\n",
              "    </tr>\n",
              "    <tr>\n",
              "      <th>4/30/20</th>\n",
              "      <td>994</td>\n",
              "      <td>41</td>\n",
              "      <td>305</td>\n",
              "    </tr>\n",
              "    <tr>\n",
              "      <th>5/1/20</th>\n",
              "      <td>998</td>\n",
              "      <td>41</td>\n",
              "      <td>316</td>\n",
              "    </tr>\n",
              "    <tr>\n",
              "      <th>5/2/20</th>\n",
              "      <td>1009</td>\n",
              "      <td>42</td>\n",
              "      <td>323</td>\n",
              "    </tr>\n",
              "    <tr>\n",
              "      <th>5/3/20</th>\n",
              "      <td>1013</td>\n",
              "      <td>42</td>\n",
              "      <td>328</td>\n",
              "    </tr>\n",
              "  </tbody>\n",
              "</table>\n",
              "</div>"
            ],
            "text/plain": [
              "        confirmed deaths recovered\n",
              "4/29/20       980     40       294\n",
              "4/30/20       994     41       305\n",
              "5/1/20        998     41       316\n",
              "5/2/20       1009     42       323\n",
              "5/3/20       1013     42       328"
            ]
          },
          "metadata": {
            "tags": []
          },
          "execution_count": 4
        }
      ]
    },
    {
      "cell_type": "code",
      "metadata": {
        "id": "wbgUYRF-ZIZj",
        "outputId": "38f43e4e-1be1-4c9c-9f44-9ab31b62c9bd",
        "colab": {
          "base_uri": "https://localhost:8080/",
          "height": 204
        }
      },
      "source": [
        "Tunisia = tn.reset_index().rename(columns={'index': 'date'})\n",
        "#Tunisia['date'] = pd.to_datetime(Tunisia['date'])\n",
        "Tunisia.head()"
      ],
      "execution_count": null,
      "outputs": [
        {
          "output_type": "execute_result",
          "data": {
            "text/html": [
              "<div>\n",
              "<style scoped>\n",
              "    .dataframe tbody tr th:only-of-type {\n",
              "        vertical-align: middle;\n",
              "    }\n",
              "\n",
              "    .dataframe tbody tr th {\n",
              "        vertical-align: top;\n",
              "    }\n",
              "\n",
              "    .dataframe thead th {\n",
              "        text-align: right;\n",
              "    }\n",
              "</style>\n",
              "<table border=\"1\" class=\"dataframe\">\n",
              "  <thead>\n",
              "    <tr style=\"text-align: right;\">\n",
              "      <th></th>\n",
              "      <th>date</th>\n",
              "      <th>confirmed</th>\n",
              "      <th>deaths</th>\n",
              "      <th>recovered</th>\n",
              "    </tr>\n",
              "  </thead>\n",
              "  <tbody>\n",
              "    <tr>\n",
              "      <th>0</th>\n",
              "      <td>3/4/20</td>\n",
              "      <td>1</td>\n",
              "      <td>0</td>\n",
              "      <td>0</td>\n",
              "    </tr>\n",
              "    <tr>\n",
              "      <th>1</th>\n",
              "      <td>3/5/20</td>\n",
              "      <td>1</td>\n",
              "      <td>0</td>\n",
              "      <td>0</td>\n",
              "    </tr>\n",
              "    <tr>\n",
              "      <th>2</th>\n",
              "      <td>3/6/20</td>\n",
              "      <td>1</td>\n",
              "      <td>0</td>\n",
              "      <td>0</td>\n",
              "    </tr>\n",
              "    <tr>\n",
              "      <th>3</th>\n",
              "      <td>3/7/20</td>\n",
              "      <td>1</td>\n",
              "      <td>0</td>\n",
              "      <td>0</td>\n",
              "    </tr>\n",
              "    <tr>\n",
              "      <th>4</th>\n",
              "      <td>3/8/20</td>\n",
              "      <td>2</td>\n",
              "      <td>0</td>\n",
              "      <td>0</td>\n",
              "    </tr>\n",
              "  </tbody>\n",
              "</table>\n",
              "</div>"
            ],
            "text/plain": [
              "     date confirmed deaths recovered\n",
              "0  3/4/20         1      0         0\n",
              "1  3/5/20         1      0         0\n",
              "2  3/6/20         1      0         0\n",
              "3  3/7/20         1      0         0\n",
              "4  3/8/20         2      0         0"
            ]
          },
          "metadata": {
            "tags": []
          },
          "execution_count": 5
        }
      ]
    },
    {
      "cell_type": "code",
      "metadata": {
        "id": "I9l1DGJCZLz7"
      },
      "source": [
        "N = 11818619\t\n",
        "#N = sum(gov.iloc[:,2])"
      ],
      "execution_count": null,
      "outputs": []
    },
    {
      "cell_type": "code",
      "metadata": {
        "id": "FOby20mnZPtx"
      },
      "source": [
        "def f(y, t, paras):\n",
        "    \"\"\"\n",
        "    Your system of differential equations\n",
        "    \"\"\"\n",
        "\n",
        "    S = y[0]\n",
        "    I = y[1]\n",
        "    R = y[2]\n",
        "\n",
        "    try:\n",
        "        beta = paras['beta'].value\n",
        "        gamma = paras['gamma'].value\n",
        "\n",
        "    except KeyError:\n",
        "        beta, gamma = paras\n",
        "    # the model equations\n",
        "    dS = -beta/N * I * S\n",
        "    dI = beta/N * I * S - gamma * I\n",
        "    dR = gamma * I\n",
        "    return [dS,dI,dR]\n"
      ],
      "execution_count": null,
      "outputs": []
    },
    {
      "cell_type": "code",
      "metadata": {
        "id": "mDCdTfrhZRtw"
      },
      "source": [
        "def g(t, SIR0, paras):\n",
        "    \"\"\"\n",
        "    Solution to the ODE x'(t) = f(t,x,k) with initial condition x(0) = x0\n",
        "    \"\"\"\n",
        "    SIR = odeint(f, SIR0, t, args=(paras,))\n",
        "    return SIR\n"
      ],
      "execution_count": null,
      "outputs": []
    },
    {
      "cell_type": "code",
      "metadata": {
        "id": "SfIsyFgKZUSO"
      },
      "source": [
        "def residual(paras, t, data):\n",
        "\n",
        "    \"\"\"\n",
        "    compute the residual between actual data and fitted data\n",
        "    \"\"\"\n",
        "\n",
        "    SIR0 = paras['S0'].value, paras['I0'].value, paras['R0'].value\n",
        "    model = g(t, SIR0, paras)\n",
        "\n",
        "    # you only have data for one of your variables\n",
        "    x2_model = model[:, 1]\n",
        "    return (x2_model - data).ravel()"
      ],
      "execution_count": null,
      "outputs": []
    },
    {
      "cell_type": "code",
      "metadata": {
        "id": "KW8M584eZWhN"
      },
      "source": [
        "# measured data\n",
        "infected = Tunisia.iloc[:,1]\n",
        "infected = infected.to_numpy()\n",
        "infected = np.array(infected,dtype='float64')\n",
        "t_measured = list(range(len(infected)))\n",
        "#t_measured = np.array(t_measured, dtype='float64')"
      ],
      "execution_count": null,
      "outputs": []
    },
    {
      "cell_type": "code",
      "metadata": {
        "id": "Kfj8eqkyZbLa"
      },
      "source": [
        "# initial conditions\n",
        "S0= N-infected[0]\n",
        "I0 = infected[0]\n",
        "R0 = 0\n",
        "y0 = [S0, I0, R0]"
      ],
      "execution_count": null,
      "outputs": []
    },
    {
      "cell_type": "code",
      "metadata": {
        "id": "gYuYis0RZdp_"
      },
      "source": [
        "# set parameters including bounds; you can also fix parameters (use vary=False)\n",
        "params = Parameters()\n",
        "params.add('S0', value=S0, vary=False)\n",
        "params.add('I0', value=I0, vary=False)\n",
        "params.add('R0', value=R0, vary=False)\n",
        "params.add('beta', value=0.1, min=0.0001, max=0.5)\n",
        "params.add('gamma', value=0.3, min=0.0001, max=1)"
      ],
      "execution_count": null,
      "outputs": []
    },
    {
      "cell_type": "code",
      "metadata": {
        "id": "gDfGVc_TZgTq"
      },
      "source": [
        "# fit model\n",
        "result = minimize(residual, params, args=(t_measured, infected), method='leastsq')  # leastsq nelder\n",
        "# check results of the fit\n",
        "data_fitted = g(list(range(len(infected))), y0, result.params)"
      ],
      "execution_count": null,
      "outputs": []
    },
    {
      "cell_type": "code",
      "metadata": {
        "id": "9_0L3jRVZjQv",
        "outputId": "1f178cc1-c53e-409c-eb53-a8aee7bac207",
        "colab": {
          "base_uri": "https://localhost:8080/",
          "height": 377
        }
      },
      "source": [
        "# plot fitted data\n",
        "fig = plt.figure(figsize=(20,8))\n",
        "plt.plot(list(range(len(infected))), data_fitted[:, 1], '-', linewidth=2, color='red', label='fitted data')\n",
        "plt.scatter(list(range(len(infected))),infected, marker='o', color='b', label='measured data')\n",
        "plt.legend()\n",
        "plt.xlim([0, max(t_measured)])\n",
        "plt.ylim([0, 1.1 * max(data_fitted[:, 1])])\n",
        "\n",
        "plt.show()"
      ],
      "execution_count": null,
      "outputs": [
        {
          "output_type": "display_data",
          "data": {
            "image/png": "[encoded data removed]",
            "text/plain": [
              "<Figure size 1440x576 with 1 Axes>"
            ]
          },
          "metadata": {
            "tags": [],
            "needs_background": "light"
          }
        }
      ]
    },
    {
      "cell_type": "code",
      "metadata": {
        "id": "PQUJy_CUZtOQ",
        "outputId": "867905de-a7d8-4980-aae6-097a52739fec",
        "colab": {
          "base_uri": "https://localhost:8080/",
          "height": 374
        }
      },
      "source": [
        "# plot fitted data\n",
        "fig = plt.figure(figsize=(20,8))\n",
        "plt.plot(Tunisia.date, data_fitted[:, 1], '-', linewidth=2, color='red', label='fitted data')\n",
        "plt.scatter(list(range(len(infected))),infected, marker='o', color='b', label='measured data')\n",
        "plt.legend()\n",
        "plt.xlim([0, max(t_measured)])\n",
        "plt.ylim([0, 1.1 * max(data_fitted[:, 1])])\n",
        "\n",
        "plt.show()"
      ],
      "execution_count": null,
      "outputs": [
        {
          "output_type": "display_data",
          "data": {
            "image/png": "[encoded data removed]",
            "text/plain": [
              "<Figure size 1440x576 with 1 Axes>"
            ]
          },
          "metadata": {
            "tags": [],
            "needs_background": "light"
          }
        }
      ]
    },
    {
      "cell_type": "code",
      "metadata": {
        "id": "RpWHnGd9Z4uw",
        "outputId": "aeaf8854-d835-4fc5-8e8a-f0b47ee2168c",
        "colab": {
          "base_uri": "https://localhost:8080/",
          "height": 322
        }
      },
      "source": [
        "t = list(range(200))\n",
        "preds = g(t, y0, result.params)\n",
        "#plot predictions of the model\n",
        "\n",
        "fig = plt.figure(figsize=(20,6))\n",
        "plt.plot(preds[:, 0],\"b-\")\n",
        "plt.plot(preds[:, 1],\"r-\")\n",
        "plt.plot(preds[:, 2],\"g-\")\n",
        "plt.legend([\"Susceptible\",\"Infected\",\"Recovered\"])"
      ],
      "execution_count": null,
      "outputs": [
        {
          "output_type": "execute_result",
          "data": {
            "text/plain": [
              "<matplotlib.legend.Legend at 0x7f3614754ac8>"
            ]
          },
          "metadata": {
            "tags": []
          },
          "execution_count": 19
        },
        {
          "output_type": "display_data",
          "data": {
            "image/png": "[encoded data removed]",
            "text/plain": [
              "<Figure size 1440x432 with 1 Axes>"
            ]
          },
          "metadata": {
            "tags": [],
            "needs_background": "light"
          }
        }
      ]
    },
    {
      "cell_type": "code",
      "metadata": {
        "id": "kengVBqfZ_qu",
        "outputId": "757ff987-2f7e-43cb-bc45-9958622d8a54",
        "colab": {
          "base_uri": "https://localhost:8080/",
          "height": 34
        }
      },
      "source": [
        "max_I1 = max(preds[:, 1])\n",
        "day_max1 = np.argmax(preds[:, 1])\n",
        "day_max1"
      ],
      "execution_count": null,
      "outputs": [
        {
          "output_type": "execute_result",
          "data": {
            "text/plain": [
              "117"
            ]
          },
          "metadata": {
            "tags": []
          },
          "execution_count": 20
        }
      ]
    },
    {
      "cell_type": "code",
      "metadata": {
        "id": "b5Z2FfuRfAc4",
        "outputId": "c15e7981-88e3-439e-8c19-4540735bad4f",
        "colab": {
          "base_uri": "https://localhost:8080/",
          "height": 51
        }
      },
      "source": [
        "max_I7 = max(preds[:, 1])\n",
        "day_max7 = np.argmax(preds[:, 1])\n",
        "print(max_I7)\n",
        "print(day_max7)"
      ],
      "execution_count": null,
      "outputs": [
        {
          "output_type": "stream",
          "text": [
            "394594.73001629906\n",
            "117\n"
          ],
          "name": "stdout"
        }
      ]
    },
    {
      "cell_type": "code",
      "metadata": {
        "id": "ddMDUiTTfNcv",
        "outputId": "6800fce5-1a79-48f6-95d3-53a30637ae25",
        "colab": {
          "base_uri": "https://localhost:8080/",
          "height": 145
        }
      },
      "source": [
        "result.params"
      ],
      "execution_count": null,
      "outputs": [
        {
          "output_type": "execute_result",
          "data": {
            "text/html": [
              "<table><tr><th> name </th><th> value </th><th> standard error </th><th> relative error </th><th> initial value </th><th> min </th><th> max </th><th> vary </th></tr><tr><td> S0 </td><td>  11818618.0 </td><td>  0.00000000 </td><td> (0.00%) </td><td> 11818618.0 </td><td>        -inf </td><td>         inf </td><td> False </td></tr><tr><td> I0 </td><td>  1.00000000 </td><td>  0.00000000 </td><td> (0.00%) </td><td> 1.0 </td><td>        -inf </td><td>         inf </td><td> False </td></tr><tr><td> R0 </td><td>  0.00000000 </td><td>  0.00000000 </td><td>  </td><td> 0 </td><td>        -inf </td><td>         inf </td><td> False </td></tr><tr><td> beta </td><td>  0.49999995 </td><td>  27.2374228 </td><td> (5447.49%) </td><td> 0.1 </td><td>  1.0000e-04 </td><td>  0.50000000 </td><td> True </td></tr><tr><td> gamma </td><td>  0.37646477 </td><td>  57.5185292 </td><td> (15278.60%) </td><td> 0.3 </td><td>  1.0000e-04 </td><td>  1.00000000 </td><td> True </td></tr></table>"
            ],
            "text/plain": [
              "Parameters([('S0',\n",
              "             <Parameter 'S0', value=11818618.0 (fixed), bounds=[-inf:inf]>),\n",
              "            ('I0', <Parameter 'I0', value=1.0 (fixed), bounds=[-inf:inf]>),\n",
              "            ('R0', <Parameter 'R0', value=0 (fixed), bounds=[-inf:inf]>),\n",
              "            ('beta',\n",
              "             <Parameter 'beta', value=0.4999999513386427 +/- 27.2, bounds=[0.0001:0.5]>),\n",
              "            ('gamma',\n",
              "             <Parameter 'gamma', value=0.3764647682879261 +/- 57.5, bounds=[0.0001:1]>)])"
            ]
          },
          "metadata": {
            "tags": []
          },
          "execution_count": 29
        }
      ]
    },
    {
      "cell_type": "code",
      "metadata": {
        "id": "zbUYCfGffXPh"
      },
      "source": [
        "gov = pd.read_excel (r'/content/drive/My Drive/gov.xlsx', sheet_name='04-04')"
      ],
      "execution_count": null,
      "outputs": []
    },
    {
      "cell_type": "code",
      "metadata": {
        "id": "KbTZCk0AW0eL"
      },
      "source": [
        "totcases = sum(gov.iloc[:,1])\n",
        "\n",
        "pop = gov.iloc[:,2].to_numpy()\n",
        "cases = gov.iloc[:,1].to_numpy()\n",
        "\n",
        "N = 0\n",
        "for i in range(len(pop)):\n",
        "    N = N + cases[i] * pop[i] / totcases"
      ],
      "execution_count": null,
      "outputs": []
    },
    {
      "cell_type": "code",
      "metadata": {
        "id": "l_2UVsVjW8ZO"
      },
      "source": [
        "# initial conditions\n",
        "S0= N-infected[0]\n",
        "I0 = infected[0]\n",
        "R0 = 0\n",
        "y0 = [S0, I0, R0]\n",
        "# set parameters including bounds; you can also fix parameters (use vary=False)\n",
        "params = Parameters()\n",
        "params.add('S0', value=S0, vary=False)\n",
        "params.add('I0', value=I0, vary=False)\n",
        "params.add('R0', value=R0, vary=False)\n",
        "params.add('beta', value=0.1, min=0.0001, max=0.5)\n",
        "params.add('gamma', value=0.3, min=0.0001, max=1)"
      ],
      "execution_count": null,
      "outputs": []
    },
    {
      "cell_type": "code",
      "metadata": {
        "id": "UXP7BdweXA4S"
      },
      "source": [
        "# fit model\n",
        "result = minimize(residual, params, args=(t_measured, infected), method='leastsq')  # leastsq nelder\n",
        "# check results of the fit\n",
        "data_fitted = g(list(range(len(infected))), y0, result.params)"
      ],
      "execution_count": null,
      "outputs": []
    },
    {
      "cell_type": "code",
      "metadata": {
        "id": "XMevriFlXEci",
        "outputId": "950ef030-fc2d-4acf-da38-6ab911a558d2",
        "colab": {
          "base_uri": "https://localhost:8080/",
          "height": 265
        }
      },
      "source": [
        "# plot fitted data\n",
        "plt.plot(list(range(len(infected))), data_fitted[:, 1], '-', linewidth=2, color='red', label='fitted data')\n",
        "plt.scatter(list(range(len(infected))),infected, marker='o', color='b', label='measured data')\n",
        "plt.legend()\n",
        "plt.xlim([0, max(t_measured)])\n",
        "plt.ylim([0, 1.1 * max(data_fitted[:, 1])])\n",
        "\n",
        "plt.show()"
      ],
      "execution_count": null,
      "outputs": [
        {
          "output_type": "display_data",
          "data": {
            "image/png": "[encoded data removed]",
            "text/plain": [
              "<Figure size 432x288 with 1 Axes>"
            ]
          },
          "metadata": {
            "tags": [],
            "needs_background": "light"
          }
        }
      ]
    },
    {
      "cell_type": "code",
      "metadata": {
        "id": "96J5ni0DXHkj",
        "outputId": "e8c601f5-34a7-472b-d8da-cd31d90f6403",
        "colab": {
          "base_uri": "https://localhost:8080/",
          "height": 282
        }
      },
      "source": [
        "t = list(range(200))\n",
        "preds = g(t, y0, result.params)\n",
        "#plot predictions of the model\n",
        "\n",
        "fig = plt.figure(figsize=(10,4))\n",
        "plt.plot(preds[:, 0],\"b-\")\n",
        "plt.plot(preds[:, 1],\"r-\")\n",
        "plt.plot(preds[:, 2],\"g-\")\n",
        "plt.legend([\"Susceptible\",\"Infected\",\"Recovered\"])"
      ],
      "execution_count": null,
      "outputs": [
        {
          "output_type": "execute_result",
          "data": {
            "text/plain": [
              "<matplotlib.legend.Legend at 0x7f36132ea2e8>"
            ]
          },
          "metadata": {
            "tags": []
          },
          "execution_count": 35
        },
        {
          "output_type": "display_data",
          "data": {
            "image/png": "[encoded data removed]",
            "text/plain": [
              "<Figure size 720x288 with 1 Axes>"
            ]
          },
          "metadata": {
            "tags": [],
            "needs_background": "light"
          }
        }
      ]
    },
    {
      "cell_type": "code",
      "metadata": {
        "id": "DLwXrECIXMCH"
      },
      "source": [
        "max_I2 = max(preds[:, 1])\n",
        "day_max2 = np.argmax(preds[:, 1])"
      ],
      "execution_count": null,
      "outputs": []
    },
    {
      "cell_type": "code",
      "metadata": {
        "id": "XyBnosJ4XWsN",
        "outputId": "cbe520f0-59bf-40c0-eef8-120a0057c1d6",
        "colab": {
          "base_uri": "https://localhost:8080/",
          "height": 34
        }
      },
      "source": [
        "regions = [\"Nord est\", \"Nord ouest\",\"Centre est\",\"Centre ouest\",\"Sud est\",\"Sud ouest\"]\n",
        "reggov = [[1,2,8,11,15,16,17],[18,21,22,24],[7,10,12,13],[5,20,23],[3,9,14],[4,6,19]]\n",
        "\n",
        "for i in range(len(reggov)):\n",
        "    for j in range(len(reggov[i])):\n",
        "        reggov[i][j] = reggov[i][j] -1\n",
        "\n",
        "totcases = sum(gov.iloc[:,1])\n",
        "\n",
        "pop = gov.iloc[:,2].to_numpy()\n",
        "cases = gov.iloc[:,1].to_numpy()\n",
        "\n",
        "pop1 = [0] * 6\n",
        "cases1 = [0] * 6\n",
        "for i in range(6):\n",
        "    pop1[i] = 0 \n",
        "    cases1[i] = 0\n",
        "    for j in reggov[i]:\n",
        "        pop1[i] = pop1[i] + pop[j]\n",
        "        cases1[i] = cases1[i] + cases[j]\n",
        "\n",
        "\n",
        "N = 0\n",
        "for i in range(len(pop1)):\n",
        "    N = N + cases1[i] * pop1[i] / totcases\n",
        "N"
      ],
      "execution_count": null,
      "outputs": [
        {
          "output_type": "execute_result",
          "data": {
            "text/plain": [
              "2951430.206060606"
            ]
          },
          "metadata": {
            "tags": []
          },
          "execution_count": 36
        }
      ]
    },
    {
      "cell_type": "code",
      "metadata": {
        "id": "w6zKpHlOXe5b",
        "outputId": "c7bea112-9880-4f0a-e331-01bca4ed1f01",
        "colab": {
          "base_uri": "https://localhost:8080/",
          "height": 265
        }
      },
      "source": [
        "# initial conditions\n",
        "S0= N-infected[0]\n",
        "I0 = infected[0]\n",
        "R0 = 0\n",
        "y0 = [S0, I0, R0]\n",
        "\n",
        "# set parameters including bounds; you can also fix parameters (use vary=False)\n",
        "params = Parameters()\n",
        "params.add('S0', value=S0, vary=False)\n",
        "params.add('I0', value=I0, vary=False)\n",
        "params.add('R0', value=R0, vary=False)\n",
        "params.add('beta', value=0.1, min=0.0001, max=0.5)\n",
        "params.add('gamma', value=0.3, min=0.0001, max=1)\n",
        "\n",
        "# fit model\n",
        "result = minimize(residual, params, args=(t_measured, infected), method='leastsq')  # leastsq nelder\n",
        "\n",
        "# check results of the fit\n",
        "data_fitted = g(list(range(len(infected))), y0, result.params)\n",
        "\n",
        "# plot fitted data\n",
        "plt.plot(list(range(len(infected))), data_fitted[:, 1], '-', linewidth=2, color='red', label='fitted data')\n",
        "plt.scatter(list(range(len(infected))),infected, marker='o', color='b', label='measured data')\n",
        "plt.legend()\n",
        "plt.xlim([0, max(t_measured)])\n",
        "plt.ylim([0, 1.1 * max(data_fitted[:, 1])])\n",
        "\n",
        "plt.show()"
      ],
      "execution_count": null,
      "outputs": [
        {
          "output_type": "display_data",
          "data": {
            "image/png": "[encoded data removed]",
            "text/plain": [
              "<Figure size 432x288 with 1 Axes>"
            ]
          },
          "metadata": {
            "tags": [],
            "needs_background": "light"
          }
        }
      ]
    },
    {
      "cell_type": "code",
      "metadata": {
        "id": "qN_McMm1Xkjt",
        "outputId": "8679cd54-512e-44e4-ec5f-a074dedf1f82",
        "colab": {
          "base_uri": "https://localhost:8080/",
          "height": 293
        }
      },
      "source": [
        "t = list(range(200))\n",
        "preds = g(t, y0, result.params)\n",
        "#plot predictions of the model\n",
        "\n",
        "fig = plt.figure(figsize=(10,4))\n",
        "plt.plot(preds[:, 0],\"b-\")\n",
        "plt.plot(preds[:, 1],\"r-\")\n",
        "plt.plot(preds[:, 2],\"g-\")\n",
        "plt.legend([\"Susceptible\",\"Infected\",\"Recovered\"])"
      ],
      "execution_count": null,
      "outputs": [
        {
          "output_type": "execute_result",
          "data": {
            "text/plain": [
              "<matplotlib.legend.Legend at 0x7f36131e5518>"
            ]
          },
          "metadata": {
            "tags": []
          },
          "execution_count": 38
        },
        {
          "output_type": "display_data",
          "data": {
            "image/png": "[encoded data removed]",
            "text/plain": [
              "<Figure size 720x288 with 1 Axes>"
            ]
          },
          "metadata": {
            "tags": [],
            "needs_background": "light"
          }
        }
      ]
    },
    {
      "cell_type": "code",
      "metadata": {
        "id": "KhxdXT_yXqBo"
      },
      "source": [
        "max_I3 = max(preds[:, 1])\n",
        "day_max3 = np.argmax(preds[:, 1])"
      ],
      "execution_count": null,
      "outputs": []
    },
    {
      "cell_type": "code",
      "metadata": {
        "id": "EuE9Pv75XuDY"
      },
      "source": [
        "gamma = 1/10"
      ],
      "execution_count": null,
      "outputs": []
    },
    {
      "cell_type": "code",
      "metadata": {
        "id": "Oqsvct2KXxHy"
      },
      "source": [
        "totcases = sum(gov.iloc[:,1])\n",
        "\n",
        "pop = gov.iloc[:,2].to_numpy()\n",
        "cases = gov.iloc[:,1].to_numpy()\n",
        "\n",
        "N = 0\n",
        "for i in range(len(pop)):\n",
        "    N = N + cases[i] * pop[i] / totcases"
      ],
      "execution_count": null,
      "outputs": []
    },
    {
      "cell_type": "code",
      "metadata": {
        "id": "MqNxQSuTXzkt"
      },
      "source": [
        "def f(y, t, paras):\n",
        "    \"\"\"\n",
        "    Your system of differential equations\n",
        "    \"\"\"\n",
        "\n",
        "    S = y[0]\n",
        "    I = y[1]\n",
        "    R = y[2]\n",
        "\n",
        "    try:\n",
        "        beta = paras['beta'].value\n",
        "\n",
        "    except KeyError:\n",
        "        beta = paras\n",
        "    # the model equations\n",
        "    dS = -beta/N * I * S\n",
        "    dI = beta/N * I * S - gamma * I\n",
        "    dR = gamma * I\n",
        "    return [dS,dI,dR]"
      ],
      "execution_count": null,
      "outputs": []
    },
    {
      "cell_type": "code",
      "metadata": {
        "id": "CtUCvz_FX2cu",
        "outputId": "2f60820a-08b0-42e4-d62c-2d9cf274f3fc",
        "colab": {
          "base_uri": "https://localhost:8080/",
          "height": 265
        }
      },
      "source": [
        "# initial conditions\n",
        "S0= N-infected[0]\n",
        "I0 = infected[0]\n",
        "R0 = 0\n",
        "y0 = [S0, I0, R0]\n",
        "\n",
        "# set parameters including bounds; you can also fix parameters (use vary=False)\n",
        "params = Parameters()\n",
        "params.add('S0', value=S0, vary=False)\n",
        "params.add('I0', value=I0, vary=False)\n",
        "params.add('R0', value=R0, vary=False)\n",
        "params.add('beta', value=0.1, min=0.0001, max=0.5)\n",
        "\n",
        "# fit model\n",
        "result = minimize(residual, params, args=(t_measured, infected), method='leastsq')  # leastsq nelder\n",
        "# check results of the fit\n",
        "data_fitted = g(list(range(len(infected))), y0, result.params)\n",
        "\n",
        "# plot fitted data\n",
        "plt.plot(list(range(len(infected))), data_fitted[:, 1], '-', linewidth=2, color='red', label='fitted data')\n",
        "plt.scatter(list(range(len(infected))),infected, marker='o', color='b', label='measured data')\n",
        "plt.legend()\n",
        "plt.xlim([0, max(t_measured)])\n",
        "plt.ylim([0, 1.1 * max(data_fitted[:, 1])])\n",
        "\n",
        "plt.show()"
      ],
      "execution_count": null,
      "outputs": [
        {
          "output_type": "display_data",
          "data": {
            "image/png": "[encoded data removed]",
            "text/plain": [
              "<Figure size 432x288 with 1 Axes>"
            ]
          },
          "metadata": {
            "tags": [],
            "needs_background": "light"
          }
        }
      ]
    },
    {
      "cell_type": "code",
      "metadata": {
        "id": "8WCQa1sZX6Dr",
        "outputId": "243b3ca7-6c44-4298-f749-8f0ab773afcc",
        "colab": {
          "base_uri": "https://localhost:8080/",
          "height": 282
        }
      },
      "source": [
        "t = list(range(200))\n",
        "preds = g(t, y0, result.params)\n",
        "#plot predictions of the model\n",
        "\n",
        "fig = plt.figure(figsize=(10,4))\n",
        "plt.plot(preds[:, 0],\"b-\")\n",
        "plt.plot(preds[:, 1],\"r-\")\n",
        "plt.plot(preds[:, 2],\"g-\")\n",
        "plt.legend([\"Susceptible\",\"Infected\",\"Recovered\"])"
      ],
      "execution_count": null,
      "outputs": [
        {
          "output_type": "execute_result",
          "data": {
            "text/plain": [
              "<matplotlib.legend.Legend at 0x7f361312a390>"
            ]
          },
          "metadata": {
            "tags": []
          },
          "execution_count": 44
        },
        {
          "output_type": "display_data",
          "data": {
            "image/png": "[encoded data removed]",
            "text/plain": [
              "<Figure size 720x288 with 1 Axes>"
            ]
          },
          "metadata": {
            "tags": [],
            "needs_background": "light"
          }
        }
      ]
    },
    {
      "cell_type": "code",
      "metadata": {
        "id": "_A2x6kPnYF4f"
      },
      "source": [
        "max_I4 = max(preds[:, 1])\n",
        "day_max4 = np.argmax(preds[:, 1])"
      ],
      "execution_count": null,
      "outputs": []
    },
    {
      "cell_type": "code",
      "metadata": {
        "id": "UrIvps7PY1Zy",
        "colab": {
          "base_uri": "https://localhost:8080/",
          "height": 265
        },
        "outputId": "30e81b90-fd60-4107-81e4-f938da567142"
      },
      "source": [
        "gamma = 1/15\n",
        "\n",
        "# initial conditions\n",
        "S0= N-infected[0]\n",
        "I0 = infected[0]\n",
        "R0 = 0\n",
        "y0 = [S0, I0, R0]\n",
        "\n",
        "# set parameters including bounds; you can also fix parameters (use vary=False)\n",
        "params = Parameters()\n",
        "params.add('S0', value=S0, vary=False)\n",
        "params.add('I0', value=I0, vary=False)\n",
        "params.add('R0', value=R0, vary=False)\n",
        "params.add('beta', value=0.1, min=0.0001, max=0.5)\n",
        "\n",
        "# fit model\n",
        "result = minimize(residual, params, args=(t_measured, infected), method='leastsq')  # leastsq nelder\n",
        "# check results of the fit\n",
        "data_fitted = g(list(range(len(infected))), y0, result.params)\n",
        "\n",
        "# plot fitted data\n",
        "plt.plot(list(range(len(infected))), data_fitted[:, 1], '-', linewidth=2, color='red', label='fitted data')\n",
        "plt.scatter(list(range(len(infected))),infected, marker='o', color='b', label='measured data')\n",
        "plt.legend()\n",
        "plt.xlim([0, max(t_measured)])\n",
        "plt.ylim([0, 1.1 * max(data_fitted[:, 1])])\n",
        "\n",
        "plt.show()"
      ],
      "execution_count": null,
      "outputs": [
        {
          "output_type": "display_data",
          "data": {
            "image/png": "[encoded data removed]",
            "text/plain": [
              "<Figure size 432x288 with 1 Axes>"
            ]
          },
          "metadata": {
            "tags": [],
            "needs_background": "light"
          }
        }
      ]
    },
    {
      "cell_type": "code",
      "metadata": {
        "id": "GJ7LqiK_Y1_E"
      },
      "source": [
        "t = list(range(200))\n",
        "preds = g(t, y0, result.params)\n",
        "#plot predictions of the model\n",
        "\n",
        "fig = plt.figure(figsize=(10,4))\n",
        "plt.plot(preds[:, 0],\"b-\")\n",
        "plt.plot(preds[:, 1],\"r-\")\n",
        "plt.plot(preds[:, 2],\"g-\")\n",
        "plt.legend([\"Susceptible\",\"Infected\",\"Recovered\"])"
      ],
      "execution_count": null,
      "outputs": []
    },
    {
      "cell_type": "code",
      "metadata": {
        "id": "Qzw95N2iaKIW"
      },
      "source": [
        "max_I5 = max(preds[:, 1])\n",
        "day_max5 = np.argmax(preds[:, 1])"
      ],
      "execution_count": null,
      "outputs": []
    },
    {
      "cell_type": "code",
      "metadata": {
        "id": "8F_YHyQQaK3w"
      },
      "source": [
        "\n",
        "def f(y, t, paras):\n",
        "    \"\"\"\n",
        "    Your system of differential equations\n",
        "    \"\"\"\n",
        "\n",
        "    S = y[0]\n",
        "    I = y[1]\n",
        "    R = y[2]\n",
        "\n",
        "    try:\n",
        "        beta = paras['beta'].value\n",
        "        gamma = paras['gamma'].value\n",
        "\n",
        "    except KeyError:\n",
        "        beta, gamma = paras\n",
        "    # the model equations\n",
        "    dS = -beta/N * I * S\n",
        "    dI = beta/N * I * S - gamma * I\n",
        "    dR = gamma * I\n",
        "    return [dS,dI,dR]\n",
        "\n",
        "\n",
        "def g(t, SIR0, paras):\n",
        "    \"\"\"\n",
        "    Solution to the ODE x'(t) = f(t,x,k) with initial condition x(0) = x0\n",
        "    \"\"\"\n",
        "    SIR = odeint(f, SIR0, t, args=(paras,))\n",
        "    return SIR\n",
        "\n",
        "\n",
        "def residual(paras, t, data_inf, data_rem):\n",
        "\n",
        "    \"\"\"\n",
        "    compute the residual between actual data and fitted data\n",
        "    \"\"\"\n",
        "\n",
        "    SIR0 = paras['S0'].value, paras['I0'].value, paras['R0'].value\n",
        "    model = g(t, SIR0, paras)\n",
        "\n",
        "    # you only have data for one of your variables\n",
        "    x2_model = model[:, 1]\n",
        "    x3_model = model[:, 2]\n",
        "    return ((x2_model - data_inf)+(x3_model-data_rem)).ravel()\n"
      ],
      "execution_count": null,
      "outputs": []
    },
    {
      "cell_type": "code",
      "metadata": {
        "id": "FhNoS3P_abAx"
      },
      "source": [
        "totcases = sum(gov.iloc[:,1])\n",
        "\n",
        "pop = gov.iloc[:,2].to_numpy()\n",
        "cases = gov.iloc[:,1].to_numpy()\n",
        "\n",
        "N = 0\n",
        "for i in range(len(pop)):\n",
        "    N = N + cases[i] * pop[i] / totcases\n",
        "\n",
        "#N = sum(gov.iloc[:,2])\n",
        "    \n",
        "# measured data\n",
        "infected = Tunisia.iloc[:,1]\n",
        "infected = infected.to_numpy()\n",
        "infected = np.array(infected,dtype='float64')\n",
        "t_measured = list(range(len(infected)))\n",
        "\n",
        "removed = Tunisia.iloc[:,2] - infected\n",
        "removed = removed.to_numpy()\n",
        "\n",
        "# initial conditions\n",
        "S0= N-infected[0]\n",
        "I0 = infected[0]\n",
        "R0 = 0\n",
        "y0 = [S0, I0, R0]\n",
        "\n",
        "\n",
        "# set parameters including bounds; you can also fix parameters (use vary=False)\n",
        "params = Parameters()\n",
        "params.add('S0', value=S0, vary=False)\n",
        "params.add('I0', value=I0, vary=False)\n",
        "params.add('R0', value=R0, vary=False)\n",
        "params.add('beta', value=0.5, min=0.0001, max=1)\n",
        "params.add('gamma', value=0.05, min=0.005, max=0.1)"
      ],
      "execution_count": null,
      "outputs": []
    },
    {
      "cell_type": "code",
      "metadata": {
        "id": "V89uN3AkahYr",
        "colab": {
          "base_uri": "https://localhost:8080/",
          "height": 455
        },
        "outputId": "a3a24754-e138-4e24-b2e0-e02a12b98594"
      },
      "source": [
        "# fit model\n",
        "result = minimize(residual, params, args=(t_measured, infected, removed), method='leastsq')  # leastsq nelder\n",
        "# check results of the fit\n",
        "data_fitted = g(list(range(len(infected))), y0, result.params)"
      ],
      "execution_count": null,
      "outputs": [
        {
          "output_type": "error",
          "ename": "TypeError",
          "evalue": "ignored",
          "traceback": [
            "\u001b[0;31m---------------------------------------------------------------------------\u001b[0m",
            "\u001b[0;31mTypeError\u001b[0m                                 Traceback (most recent call last)",
            "\u001b[0;31mTypeError\u001b[0m: Cannot cast array data from dtype('O') to dtype('float64') according to the rule 'safe'"
          ]
        },
        {
          "output_type": "error",
          "ename": "error",
          "evalue": "ignored",
          "traceback": [
            "\u001b[0;31m---------------------------------------------------------------------------\u001b[0m",
            "\u001b[0;31merror\u001b[0m                                     Traceback (most recent call last)",
            "\u001b[0;32m<ipython-input-58-db00c0b48b61>\u001b[0m in \u001b[0;36m<module>\u001b[0;34m()\u001b[0m\n\u001b[0;32m----> 1\u001b[0;31m \u001b[0mresult\u001b[0m \u001b[0;34m=\u001b[0m \u001b[0mminimize\u001b[0m\u001b[0;34m(\u001b[0m\u001b[0mresidual\u001b[0m\u001b[0;34m,\u001b[0m \u001b[0mparams\u001b[0m\u001b[0;34m,\u001b[0m \u001b[0margs\u001b[0m\u001b[0;34m=\u001b[0m\u001b[0;34m(\u001b[0m\u001b[0mt_measured\u001b[0m\u001b[0;34m,\u001b[0m \u001b[0minfected\u001b[0m\u001b[0;34m,\u001b[0m \u001b[0mremoved\u001b[0m\u001b[0;34m)\u001b[0m\u001b[0;34m,\u001b[0m \u001b[0mmethod\u001b[0m\u001b[0;34m=\u001b[0m\u001b[0;34m'leastsq'\u001b[0m\u001b[0;34m)\u001b[0m  \u001b[0;31m# leastsq nelder\u001b[0m\u001b[0;34m\u001b[0m\u001b[0;34m\u001b[0m\u001b[0m\n\u001b[0m\u001b[1;32m      2\u001b[0m \u001b[0;31m# check results of the fit\u001b[0m\u001b[0;34m\u001b[0m\u001b[0;34m\u001b[0m\u001b[0;34m\u001b[0m\u001b[0m\n\u001b[1;32m      3\u001b[0m \u001b[0mdata_fitted\u001b[0m \u001b[0;34m=\u001b[0m \u001b[0mg\u001b[0m\u001b[0;34m(\u001b[0m\u001b[0mlist\u001b[0m\u001b[0;34m(\u001b[0m\u001b[0mrange\u001b[0m\u001b[0;34m(\u001b[0m\u001b[0mlen\u001b[0m\u001b[0;34m(\u001b[0m\u001b[0minfected\u001b[0m\u001b[0;34m)\u001b[0m\u001b[0;34m)\u001b[0m\u001b[0;34m)\u001b[0m\u001b[0;34m,\u001b[0m \u001b[0my0\u001b[0m\u001b[0;34m,\u001b[0m \u001b[0mresult\u001b[0m\u001b[0;34m.\u001b[0m\u001b[0mparams\u001b[0m\u001b[0;34m)\u001b[0m\u001b[0;34m\u001b[0m\u001b[0;34m\u001b[0m\u001b[0m\n",
            "\u001b[0;32m/usr/local/lib/python3.6/dist-packages/lmfit/minimizer.py\u001b[0m in \u001b[0;36mminimize\u001b[0;34m(fcn, params, method, args, kws, iter_cb, scale_covar, nan_policy, reduce_fcn, calc_covar, **fit_kws)\u001b[0m\n\u001b[1;32m   2391\u001b[0m                        \u001b[0mnan_policy\u001b[0m\u001b[0;34m=\u001b[0m\u001b[0mnan_policy\u001b[0m\u001b[0;34m,\u001b[0m \u001b[0mreduce_fcn\u001b[0m\u001b[0;34m=\u001b[0m\u001b[0mreduce_fcn\u001b[0m\u001b[0;34m,\u001b[0m\u001b[0;34m\u001b[0m\u001b[0;34m\u001b[0m\u001b[0m\n\u001b[1;32m   2392\u001b[0m                        calc_covar=calc_covar, **fit_kws)\n\u001b[0;32m-> 2393\u001b[0;31m     \u001b[0;32mreturn\u001b[0m \u001b[0mfitter\u001b[0m\u001b[0;34m.\u001b[0m\u001b[0mminimize\u001b[0m\u001b[0;34m(\u001b[0m\u001b[0mmethod\u001b[0m\u001b[0;34m=\u001b[0m\u001b[0mmethod\u001b[0m\u001b[0;34m)\u001b[0m\u001b[0;34m\u001b[0m\u001b[0;34m\u001b[0m\u001b[0m\n\u001b[0m",
            "\u001b[0;32m/usr/local/lib/python3.6/dist-packages/lmfit/minimizer.py\u001b[0m in \u001b[0;36mminimize\u001b[0;34m(self, method, params, **kws)\u001b[0m\n\u001b[1;32m   2174\u001b[0m                         val.lower().startswith(user_method)):\n\u001b[1;32m   2175\u001b[0m                     \u001b[0mkwargs\u001b[0m\u001b[0;34m[\u001b[0m\u001b[0;34m'method'\u001b[0m\u001b[0;34m]\u001b[0m \u001b[0;34m=\u001b[0m \u001b[0mval\u001b[0m\u001b[0;34m\u001b[0m\u001b[0;34m\u001b[0m\u001b[0m\n\u001b[0;32m-> 2176\u001b[0;31m         \u001b[0;32mreturn\u001b[0m \u001b[0mfunction\u001b[0m\u001b[0;34m(\u001b[0m\u001b[0;34m**\u001b[0m\u001b[0mkwargs\u001b[0m\u001b[0;34m)\u001b[0m\u001b[0;34m\u001b[0m\u001b[0;34m\u001b[0m\u001b[0m\n\u001b[0m\u001b[1;32m   2177\u001b[0m \u001b[0;34m\u001b[0m\u001b[0m\n\u001b[1;32m   2178\u001b[0m \u001b[0;34m\u001b[0m\u001b[0m\n",
            "\u001b[0;32m/usr/local/lib/python3.6/dist-packages/lmfit/minimizer.py\u001b[0m in \u001b[0;36mleastsq\u001b[0;34m(self, params, **kws)\u001b[0m\n\u001b[1;32m   1566\u001b[0m \u001b[0;34m\u001b[0m\u001b[0m\n\u001b[1;32m   1567\u001b[0m         \u001b[0;32mtry\u001b[0m\u001b[0;34m:\u001b[0m\u001b[0;34m\u001b[0m\u001b[0;34m\u001b[0m\u001b[0m\n\u001b[0;32m-> 1568\u001b[0;31m             \u001b[0mlsout\u001b[0m \u001b[0;34m=\u001b[0m \u001b[0mscipy_leastsq\u001b[0m\u001b[0;34m(\u001b[0m\u001b[0mself\u001b[0m\u001b[0;34m.\u001b[0m\u001b[0m__residual\u001b[0m\u001b[0;34m,\u001b[0m \u001b[0mvariables\u001b[0m\u001b[0;34m,\u001b[0m \u001b[0;34m**\u001b[0m\u001b[0mlskws\u001b[0m\u001b[0;34m)\u001b[0m\u001b[0;34m\u001b[0m\u001b[0;34m\u001b[0m\u001b[0m\n\u001b[0m\u001b[1;32m   1569\u001b[0m         \u001b[0;32mexcept\u001b[0m \u001b[0mAbortFitException\u001b[0m\u001b[0;34m:\u001b[0m\u001b[0;34m\u001b[0m\u001b[0;34m\u001b[0m\u001b[0m\n\u001b[1;32m   1570\u001b[0m             \u001b[0;32mpass\u001b[0m\u001b[0;34m\u001b[0m\u001b[0;34m\u001b[0m\u001b[0m\n",
            "\u001b[0;32m/usr/local/lib/python3.6/dist-packages/scipy/optimize/minpack.py\u001b[0m in \u001b[0;36mleastsq\u001b[0;34m(func, x0, args, Dfun, full_output, col_deriv, ftol, xtol, gtol, maxfev, epsfcn, factor, diag)\u001b[0m\n\u001b[1;32m    399\u001b[0m             \u001b[0mmaxfev\u001b[0m \u001b[0;34m=\u001b[0m \u001b[0;36m200\u001b[0m\u001b[0;34m*\u001b[0m\u001b[0;34m(\u001b[0m\u001b[0mn\u001b[0m \u001b[0;34m+\u001b[0m \u001b[0;36m1\u001b[0m\u001b[0;34m)\u001b[0m\u001b[0;34m\u001b[0m\u001b[0;34m\u001b[0m\u001b[0m\n\u001b[1;32m    400\u001b[0m         retval = _minpack._lmdif(func, x0, args, full_output, ftol, xtol,\n\u001b[0;32m--> 401\u001b[0;31m                                  gtol, maxfev, epsfcn, factor, diag)\n\u001b[0m\u001b[1;32m    402\u001b[0m     \u001b[0;32melse\u001b[0m\u001b[0;34m:\u001b[0m\u001b[0;34m\u001b[0m\u001b[0;34m\u001b[0m\u001b[0m\n\u001b[1;32m    403\u001b[0m         \u001b[0;32mif\u001b[0m \u001b[0mcol_deriv\u001b[0m\u001b[0;34m:\u001b[0m\u001b[0;34m\u001b[0m\u001b[0;34m\u001b[0m\u001b[0m\n",
            "\u001b[0;31merror\u001b[0m: Result from function call is not a proper array of floats."
          ]
        }
      ]
    },
    {
      "cell_type": "code",
      "metadata": {
        "id": "t9KXibSEalnH"
      },
      "source": [
        "# plot fitted data\n",
        "plt.plot(list(range(len(infected))), data_fitted[:, 1], '-', linewidth=2, color='red', label='fitted data infected')\n",
        "plt.scatter(list(range(len(infected))),infected, marker='o', color='b', label='measured data infected')\n",
        "plt.legend()\n",
        "plt.xlim([0, max(t_measured)])\n",
        "plt.ylim([0, 1.1 * max(data_fitted[:, 1])])\n",
        "\n",
        "plt.show()"
      ],
      "execution_count": null,
      "outputs": []
    },
    {
      "cell_type": "code",
      "metadata": {
        "id": "KATdumLVbbg6"
      },
      "source": [
        ""
      ],
      "execution_count": null,
      "outputs": []
    }
  ]
}